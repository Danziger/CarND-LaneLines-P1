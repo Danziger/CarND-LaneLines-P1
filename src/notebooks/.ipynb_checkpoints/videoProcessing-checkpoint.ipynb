{
 "cells": [
  {
   "cell_type": "code",
   "execution_count": 2,
   "metadata": {},
   "outputs": [
    {
     "ename": "ImportError",
     "evalue": "No module named 'src'",
     "output_type": "error",
     "traceback": [
      "\u001b[0;31m---------------------------------------------------------------------------\u001b[0m",
      "\u001b[0;31mImportError\u001b[0m                               Traceback (most recent call last)",
      "\u001b[0;32m<ipython-input-2-c725be1372a5>\u001b[0m in \u001b[0;36m<module>\u001b[0;34m()\u001b[0m\n\u001b[1;32m     16\u001b[0m \u001b[0;31m# Import local deps\u001b[0m\u001b[0;34m\u001b[0m\u001b[0;34m\u001b[0m\u001b[0m\n\u001b[1;32m     17\u001b[0m \u001b[0;34m\u001b[0m\u001b[0m\n\u001b[0;32m---> 18\u001b[0;31m \u001b[0;32mimport\u001b[0m \u001b[0msrc\u001b[0m\u001b[0;34m.\u001b[0m\u001b[0mhelpers\u001b[0m\u001b[0;34m.\u001b[0m\u001b[0mlineRegressorWithMemory\u001b[0m \u001b[0;32mas\u001b[0m \u001b[0mLRM\u001b[0m\u001b[0;34m\u001b[0m\u001b[0m\n\u001b[0m\u001b[1;32m     19\u001b[0m \u001b[0;32mimport\u001b[0m \u001b[0msrc\u001b[0m\u001b[0;34m.\u001b[0m\u001b[0mhelpers\u001b[0m\u001b[0;34m.\u001b[0m\u001b[0mimageProcessing\u001b[0m \u001b[0;32mas\u001b[0m \u001b[0mIP\u001b[0m\u001b[0;34m\u001b[0m\u001b[0m\n\u001b[1;32m     20\u001b[0m \u001b[0;32mimport\u001b[0m \u001b[0msrc\u001b[0m\u001b[0;34m.\u001b[0m\u001b[0mhelpers\u001b[0m\u001b[0;34m.\u001b[0m\u001b[0mplot\u001b[0m \u001b[0;32mas\u001b[0m \u001b[0mP\u001b[0m\u001b[0;34m\u001b[0m\u001b[0m\n",
      "\u001b[0;31mImportError\u001b[0m: No module named 'src'"
     ]
    }
   ],
   "source": [
    "\n",
    "from importlib import reload\n",
    "from moviepy.editor import VideoFileClip\n",
    "from IPython.display import HTML\n",
    "\n",
    "import numpy as np\n",
    "import sys\n",
    "import os\n",
    "\n",
    "\n",
    "# Visualizations will be shown in the notebook:\n",
    "\n",
    "%matplotlib inline\n",
    "\n",
    "\n",
    "# Import local deps\n",
    "\n",
    "import src.helpers.lineRegressorWithMemory as LRM\n",
    "import src.helpers.imageProcessing as IP\n",
    "import src.helpers.plot as P\n",
    "\n",
    "\n",
    "if 'src.helpers.imageProcessing' in sys.modules:\n",
    "    print(\"Reloading Modules...\")\n",
    "    \n",
    "    reload(LRM)\n",
    "    reload(IP)\n",
    "    reload(P)\n",
    "    \n",
    "    print(\"\\nModules Reloaded!\")\n"
   ]
  },
  {
   "cell_type": "code",
   "execution_count": 1,
   "metadata": {},
   "outputs": [
    {
     "ename": "NameError",
     "evalue": "name 'LRM' is not defined",
     "output_type": "error",
     "traceback": [
      "\u001b[0;31m---------------------------------------------------------------------------\u001b[0m",
      "\u001b[0;31mNameError\u001b[0m                                 Traceback (most recent call last)",
      "\u001b[0;32m<ipython-input-1-224c6649f59d>\u001b[0m in \u001b[0;36m<module>\u001b[0;34m()\u001b[0m\n\u001b[1;32m      2\u001b[0m \u001b[0;31m# IMAGE PROCESSING:\u001b[0m\u001b[0;34m\u001b[0m\u001b[0;34m\u001b[0m\u001b[0m\n\u001b[1;32m      3\u001b[0m \u001b[0;34m\u001b[0m\u001b[0m\n\u001b[0;32m----> 4\u001b[0;31m \u001b[0mrightLineStream\u001b[0m \u001b[0;34m=\u001b[0m \u001b[0mLRM\u001b[0m\u001b[0;34m.\u001b[0m\u001b[0mLineStream\u001b[0m\u001b[0;34m(\u001b[0m\u001b[0;34m)\u001b[0m\u001b[0;34m\u001b[0m\u001b[0m\n\u001b[0m\u001b[1;32m      5\u001b[0m \u001b[0mleftLineStream\u001b[0m \u001b[0;34m=\u001b[0m \u001b[0mLRM\u001b[0m\u001b[0;34m.\u001b[0m\u001b[0mLineStream\u001b[0m\u001b[0;34m(\u001b[0m\u001b[0;34m)\u001b[0m\u001b[0;34m\u001b[0m\u001b[0m\n\u001b[1;32m      6\u001b[0m \u001b[0;34m\u001b[0m\u001b[0m\n",
      "\u001b[0;31mNameError\u001b[0m: name 'LRM' is not defined"
     ]
    }
   ],
   "source": [
    "\n",
    "# IMAGE PROCESSING:\n",
    "\n",
    "rightLineStream = LRM.LineStream()\n",
    "leftLineStream = LRM.LineStream()\n",
    "\n",
    "def process_image(imageRGB):\n",
    "    # NOTE: The output you return should be a color image (3 channel) for processing video below\n",
    "    # TODO: put your pipeline here,\n",
    "    # you should return the final output (image where lines are drawn on lanes)\n",
    "    \n",
    "    imageHLS = IP.rgb2hls(imageRGB)\n",
    "    imageYW = IP.yellowAndWhiteHlsFilter(imageHLS)\n",
    "    \n",
    "    WIDTH = imageYW.shape[1]\n",
    "    HEIGHT = imageYW.shape[0]\n",
    "    \n",
    "    REGION_MASK = np.array([[\n",
    "        # OUTER SHAPE:\n",
    "        \n",
    "        (0.05 * WIDTH, 0.90 * HEIGHT),\n",
    "        (0.45 * WIDTH, 0.60 * HEIGHT),\n",
    "        (0.55 * WIDTH, 0.60 * HEIGHT),\n",
    "        (0.95 * WIDTH, 0.90 * HEIGHT),\n",
    "        \n",
    "        # INNER CUTOUT:\n",
    "        \n",
    "        (0.70 * WIDTH, 0.90 * HEIGHT),\n",
    "        (0.50 * WIDTH, 0.70 * HEIGHT),\n",
    "        (0.30 * WIDTH, 0.90 * HEIGHT),\n",
    "    ]], dtype=np.int32)\n",
    "    \n",
    "    imageRegion = IP.regionOfInterestFilter(imageYW, REGION_MASK)\n",
    "    imageBlur = IP.gaussianBlur(imageRegion, 5)\n",
    "    imageCanny = IP.canny(imageBlur, 50, 100)\n",
    "    imagesHoughLines = IP.houghLines(imageCanny, 2, np.pi / 180, 30, 20, 80)\n",
    "        \n",
    "    imageLines = np.zeros((imageRGB.shape[0], imageRGB.shape[1], 3), dtype=np.uint8)\n",
    "    \n",
    "    if imagesHoughLines is None:\n",
    "        rightLineStream.drawLineFromPoints(imageLines, [[]], [], [])\n",
    "        leftLineStream.drawLineFromPoints(imageLines, [[]], [], [])\n",
    "    else:\n",
    "        linesPoints = IP.classifyLinesPoints(imagesHoughLines, WIDTH)\n",
    "        right = linesPoints['right']\n",
    "        left = linesPoints['left']\n",
    "        \n",
    "        rightLineStream.drawLineFromPoints(imageLines, right['X'], right['Y'], right['weights'])\n",
    "        leftLineStream.drawLineFromPoints(imageLines, left['X'], left['Y'], left['weights'])\n",
    "        \n",
    "    return IP.weighted_img(imageLines, imageRGB)\n",
    "\n",
    "\n",
    "# VIDEO PROCESSING:\n",
    "\n",
    "outputDir = \"./output/videos/\"\n",
    "videosDir = \"./input/videos/\"\n",
    "videosNames = os.listdir(videosDir)\n",
    "\n",
    "def process_video(videoName):\n",
    "    print(\"--------\\n\\nProcessing %s:\" % videoName)\n",
    "\n",
    "    rightLineStream.reset()\n",
    "    leftLineStream.reset()\n",
    "    \n",
    "    inputClip = VideoFileClip(videosDir + videoName)\n",
    "    outputClip = inputClip.fl_image(process_image) # NOTE: this function expects color images!\n",
    "    %time outputClip.write_videofile(outputDir + videoName, audio=False)\n",
    "    \n",
    "    return outputClip\n",
    "    \n",
    "print(\"Available videos:\\n\")\n",
    "\n",
    "for videoName in videosNames: print(videoName)\n",
    "    "
   ]
  },
  {
   "cell_type": "code",
   "execution_count": 4,
   "metadata": {},
   "outputs": [
    {
     "name": "stdout",
     "output_type": "stream",
     "text": [
      "--------\n",
      "\n",
      "Processing 001 - Solid White Right.mp4:\n",
      "[MoviePy] >>>> Building video ./output/videos/001 - Solid White Right.mp4\n",
      "[MoviePy] Writing video ./output/videos/001 - Solid White Right.mp4\n"
     ]
    },
    {
     "name": "stderr",
     "output_type": "stream",
     "text": [
      "100%|█████████▉| 221/222 [00:03<00:00, 71.07it/s]\n"
     ]
    },
    {
     "name": "stdout",
     "output_type": "stream",
     "text": [
      "[MoviePy] Done.\n",
      "[MoviePy] >>>> Video ready: ./output/videos/001 - Solid White Right.mp4 \n",
      "\n",
      "CPU times: user 3.45 s, sys: 642 ms, total: 4.09 s\n",
      "Wall time: 3.55 s\n",
      "--------\n",
      "\n",
      "Processing 002 - Solid Yellow Left.mp4:\n",
      "[MoviePy] >>>> Building video ./output/videos/002 - Solid Yellow Left.mp4\n",
      "[MoviePy] Writing video ./output/videos/002 - Solid Yellow Left.mp4\n"
     ]
    },
    {
     "name": "stderr",
     "output_type": "stream",
     "text": [
      "100%|█████████▉| 681/682 [00:10<00:00, 65.24it/s]\n"
     ]
    },
    {
     "name": "stdout",
     "output_type": "stream",
     "text": [
      "[MoviePy] Done.\n",
      "[MoviePy] >>>> Video ready: ./output/videos/002 - Solid Yellow Left.mp4 \n",
      "\n",
      "CPU times: user 11.4 s, sys: 2.42 s, total: 13.8 s\n",
      "Wall time: 10.9 s\n",
      "--------\n",
      "\n",
      "Processing 003 - Challenge.mp4:\n",
      "[MoviePy] >>>> Building video ./output/videos/003 - Challenge.mp4\n",
      "[MoviePy] Writing video ./output/videos/003 - Challenge.mp4\n"
     ]
    },
    {
     "name": "stderr",
     "output_type": "stream",
     "text": [
      "100%|██████████| 251/251 [00:09<00:00, 29.92it/s]\n"
     ]
    },
    {
     "name": "stdout",
     "output_type": "stream",
     "text": [
      "[MoviePy] Done.\n",
      "[MoviePy] >>>> Video ready: ./output/videos/003 - Challenge.mp4 \n",
      "\n",
      "CPU times: user 8.1 s, sys: 1.54 s, total: 9.65 s\n",
      "Wall time: 10.6 s\n",
      "--------\n",
      "\n",
      "Processing 004 - Advanced Project.mp4:\n",
      "[MoviePy] >>>> Building video ./output/videos/004 - Advanced Project.mp4\n",
      "[MoviePy] Writing video ./output/videos/004 - Advanced Project.mp4\n"
     ]
    },
    {
     "name": "stderr",
     "output_type": "stream",
     "text": [
      "100%|█████████▉| 1260/1261 [00:39<00:00, 32.13it/s]\n"
     ]
    },
    {
     "name": "stdout",
     "output_type": "stream",
     "text": [
      "[MoviePy] Done.\n",
      "[MoviePy] >>>> Video ready: ./output/videos/004 - Advanced Project.mp4 \n",
      "\n",
      "CPU times: user 39.2 s, sys: 9.07 s, total: 48.2 s\n",
      "Wall time: 40.1 s\n",
      "--------\n",
      "\n",
      "Processing 005 - Advanced Project Challenge.mp4:\n",
      "[MoviePy] >>>> Building video ./output/videos/005 - Advanced Project Challenge.mp4\n",
      "[MoviePy] Writing video ./output/videos/005 - Advanced Project Challenge.mp4\n"
     ]
    },
    {
     "name": "stderr",
     "output_type": "stream",
     "text": [
      "100%|██████████| 485/485 [00:14<00:00, 33.25it/s]\n"
     ]
    },
    {
     "name": "stdout",
     "output_type": "stream",
     "text": [
      "[MoviePy] Done.\n",
      "[MoviePy] >>>> Video ready: ./output/videos/005 - Advanced Project Challenge.mp4 \n",
      "\n",
      "CPU times: user 14.5 s, sys: 3.88 s, total: 18.4 s\n",
      "Wall time: 15.3 s\n",
      "--------\n",
      "\n",
      "Processing 006 - Advanced Project Harder Challenge.mp4:\n",
      "[MoviePy] >>>> Building video ./output/videos/006 - Advanced Project Harder Challenge.mp4\n",
      "[MoviePy] Writing video ./output/videos/006 - Advanced Project Harder Challenge.mp4\n"
     ]
    },
    {
     "name": "stderr",
     "output_type": "stream",
     "text": [
      "100%|█████████▉| 1199/1200 [00:45<00:00, 28.18it/s]\n"
     ]
    },
    {
     "name": "stdout",
     "output_type": "stream",
     "text": [
      "[MoviePy] Done.\n",
      "[MoviePy] >>>> Video ready: ./output/videos/006 - Advanced Project Harder Challenge.mp4 \n",
      "\n",
      "CPU times: user 43.1 s, sys: 9.14 s, total: 52.3 s\n",
      "Wall time: 46.1 s\n"
     ]
    }
   ],
   "source": [
    "\n",
    "for videoName in videosNames:\n",
    "    output = process_video(videoName)\n",
    "    \n",
    "    HTML(\"\"\"<video width=\"960\" height=\"540\" controls><source src=\"{0}\"></video>\"\"\".format(output))\n"
   ]
  },
  {
   "cell_type": "code",
   "execution_count": null,
   "metadata": {},
   "outputs": [],
   "source": []
  }
 ],
 "metadata": {
  "kernelspec": {
   "display_name": "Python 3",
   "language": "python",
   "name": "python3"
  },
  "language_info": {
   "codemirror_mode": {
    "name": "ipython",
    "version": 3
   },
   "file_extension": ".py",
   "mimetype": "text/x-python",
   "name": "python",
   "nbconvert_exporter": "python",
   "pygments_lexer": "ipython3",
   "version": "3.5.2"
  },
  "widgets": {
   "state": {},
   "version": "1.1.2"
  }
 },
 "nbformat": 4,
 "nbformat_minor": 1
}
